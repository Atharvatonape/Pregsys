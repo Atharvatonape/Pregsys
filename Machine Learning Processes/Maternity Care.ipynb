{
 "cells": [
  {
   "cell_type": "markdown",
   "metadata": {},
   "source": [
    "# Linear Regression on IMR based on Maternal Care\n",
    "\n",
    "Import necessary libraries\n"
   ]
  },
  {
   "cell_type": "code",
   "execution_count": 1,
   "metadata": {
    "scrolled": true
   },
   "outputs": [],
   "source": [
    "import turicreate\n",
    "import numpy as np\n",
    "import matplotlib.pyplot as plt\n",
    "%matplotlib inline"
   ]
  },
  {
   "cell_type": "markdown",
   "metadata": {},
   "source": [
    "## Import datasets "
   ]
  },
  {
   "cell_type": "code",
   "execution_count": 2,
   "metadata": {},
   "outputs": [
    {
     "data": {
      "text/html": [
       "<pre>Finished parsing file /home/vishwa/ML/Project/NFHS-4_NFHS3_Factsheet-All_India_Indicators_R1.csv</pre>"
      ],
      "text/plain": [
       "Finished parsing file /home/vishwa/ML/Project/NFHS-4_NFHS3_Factsheet-All_India_Indicators_R1.csv"
      ]
     },
     "metadata": {},
     "output_type": "display_data"
    },
    {
     "data": {
      "text/html": [
       "<pre>Parsing completed. Parsed 100 lines in 0.048357 secs.</pre>"
      ],
      "text/plain": [
       "Parsing completed. Parsed 100 lines in 0.048357 secs."
      ]
     },
     "metadata": {},
     "output_type": "display_data"
    },
    {
     "name": "stdout",
     "output_type": "stream",
     "text": [
      "------------------------------------------------------\n",
      "Inferred types from first 100 line(s) of file as \n",
      "column_type_hints=[str,str,str,float,float,int,int,float,float,float,float,float,float,float,float,float,float,float,float,float,float,int,int,float,float,float,float,float,float,float,float,float,float,float,float,float,float,float,float,float,float,float,int,float,float,float,float,float,float,float,float,float,float,float,float,float,float,float,float,float,float,float,float,float,float,float,float,float,float,float,float,float,float,float,float,float,float,float,float,float,float,float,float,float,float,float,float,float,float,float,float,float,float,float,float,float,float,float,float,float,float,float,float,float,float,float,float,float,float,float,float,float,float,float,float,float,float,str,str,str,str,str,str,str,str,str,str,str,str,str,str,str,str,str,str,str,str,str,str,str,str,str,str,str,str,str,str,str,str,str,str,str,str,str,str,str,str,str,str,str,str,str,str,str,str,str,str,str,str,str,str,str,str,str,str,str,str,str,str,str,str,str,str,str,str,str,str,str,str,str,str,str]\n",
      "If parsing fails due to incorrect types, you can correct\n",
      "the inferred type list above and pass it to read_csv in\n",
      "the column_type_hints argument\n",
      "------------------------------------------------------\n"
     ]
    },
    {
     "data": {
      "text/html": [
       "<pre>Finished parsing file /home/vishwa/ML/Project/NFHS-4_NFHS3_Factsheet-All_India_Indicators_R1.csv</pre>"
      ],
      "text/plain": [
       "Finished parsing file /home/vishwa/ML/Project/NFHS-4_NFHS3_Factsheet-All_India_Indicators_R1.csv"
      ]
     },
     "metadata": {},
     "output_type": "display_data"
    },
    {
     "data": {
      "text/html": [
       "<pre>Parsing completed. Parsed 148 lines in 0.027832 secs.</pre>"
      ],
      "text/plain": [
       "Parsing completed. Parsed 148 lines in 0.027832 secs."
      ]
     },
     "metadata": {},
     "output_type": "display_data"
    }
   ],
   "source": [
    "data = turicreate.SFrame('NFHS-4_NFHS3_Factsheet-All_India_Indicators_R1.csv')"
   ]
  },
  {
   "cell_type": "markdown",
   "metadata": {},
   "source": [
    "# Preprocessing Data"
   ]
  },
  {
   "cell_type": "markdown",
   "metadata": {},
   "source": [
    "## List all columns in the dataset"
   ]
  },
  {
   "cell_type": "code",
   "execution_count": 3,
   "metadata": {
    "scrolled": true
   },
   "outputs": [
    {
     "data": {
      "text/plain": [
       "['India/States/UTs',\n",
       " 'Survey',\n",
       " 'Area',\n",
       " 'Population and Household Profile - Population (female) age 6 years and above who ever attended school (%)',\n",
       " 'Population and Household Profile - Population below age 15 years (%)',\n",
       " 'Population and Household Profile - Sex ratio of the total population (females per 1000 males)',\n",
       " 'Population and Household Profile - Sex ratio at birth for children born in the last five years (females per 1000 males)',\n",
       " 'Population and Household Profile - Children under age 5 years whose birth was registered (%)',\n",
       " 'Population and Household Profile - Households with electricity (%)',\n",
       " 'Population and Household Profile - Households with an improved drinking-water source (%)',\n",
       " 'Population and Household Profile - Households using improved sanitation facility (%)',\n",
       " 'Population and Household Profile - Households using clean fuel for cooking (%)',\n",
       " 'Population and Household Profile - Households using iodized salt (%)',\n",
       " 'Population and Household Profile - Households with any usual member covered by a health scheme or health insurance (%)',\n",
       " 'Characteristics of Adults (age 15-49) - Women who are literate (%)',\n",
       " 'Characteristics of Adults (age 15-49) - Men who are literate (%)',\n",
       " 'Characteristics of Adults (age 15-49) - Women with 10 or more years of schooling (%)',\n",
       " 'Marriage and Fertility - Women age 20-24 years married before age 18 years (%)',\n",
       " 'Marriage and Fertility - Men age 25-29 years married before age 21 years (%)',\n",
       " 'Marriage and Fertility - Total fertility rate (children per woman)',\n",
       " 'Marriage and Fertility - Women age 15-19 years who were already mothers or pregnant at the time of the survey (%)',\n",
       " 'Infant and Child Mortality Rates (per 1000 live births) - Infant mortality rate (IMR)',\n",
       " 'Infant and Child Mortality Rates (per 1000 live births) - Under-five mortality rate (U5MR)',\n",
       " 'Current Use of Family Planning Methods (currently married women age 15-49 years) - Any method (%)',\n",
       " 'Current Use of Family Planning Methods (currently married women age 15-49 years) - Any modern method (%)',\n",
       " 'Current Use of Family Planning Methods (currently married women age 15-49 years) - Female sterilization (%)',\n",
       " 'Current Use of Family Planning Methods (currently married women age 15-49 years) - Male sterilization (%)',\n",
       " 'Current Use of Family Planning Methods (currently married women age 15-49 years) - IUD/PPIUD (%)',\n",
       " 'Current Use of Family Planning Methods (currently married women age 15-49 years) - Pill (%)',\n",
       " 'Current Use of Family Planning Methods (currently married women age 15-49 years) - Condom (%)',\n",
       " 'Unmet Need for Family Planning (currently married women age 15-49 years)5 - Total unmet need (%)',\n",
       " 'Unmet Need for Family Planning (currently married women age 15-49 years)5 - Unmet need for spacing (%)',\n",
       " 'Quality of Family Planning Services - Health worker ever talked to female non-users about family planning (%)',\n",
       " 'Quality of Family Planning Services - Current users ever told about side effects of current method (%)',\n",
       " 'Maternity Care (for last birth in the 5 years before the survey) - Mothers who had antenatal check-up in the first trimester (%)',\n",
       " 'Maternity Care (for last birth in the 5 years before the survey) - Mothers who had at least 4 antenatal care visits (%)',\n",
       " 'Maternity Care (for last birth in the 5 years before the survey) - Mothers whose last birth was protected against neonatal tetanus (%)',\n",
       " 'Maternity Care (for last birth in the 5 years before the survey) - Mothers who consumed iron folic acid for 100 days or more when they were pregnant (%)',\n",
       " 'Maternity Care (for last birth in the 5 years before the survey) - Mothers who had full antenatal care (%)',\n",
       " 'Maternity Care (for last birth in the 5 years before the survey) - Registered pregnancies for which the mother received Mother and Child Protection (MCP) card (%)',\n",
       " 'Maternity Care (for last birth in the 5 years before the survey) - Mothers who received postnatal care from a doctor/nurse/LHV/ANM/midwife/other health personnel within 2 days of delivery (%)',\n",
       " 'Maternity Care (for last birth in the 5 years before the survey) - Mothers who received financial assistance under Janani Suraksha Yojana (JSY) for births delivered in an institution (%)',\n",
       " 'Maternity Care (for last birth in the 5 years before the survey) - Average out of pocket expenditure per delivery in public health facility (Rs.)',\n",
       " 'Maternity Care (for last birth in the 5 years before the survey) - Children born at home who were taken to a health facility for check-up within 24 hours of birth (%)',\n",
       " 'Maternity Care (for last birth in the 5 years before the survey) - Children who received a health check after birth from a doctor/nurse/LHV/ANM/ midwife/other health personnel within 2 days of birth (%)',\n",
       " 'Delivery Care (for births in the 5 years before the survey) - Institutional births (%)',\n",
       " 'Delivery Care (for births in the 5 years before the survey) - Institutional births in public facility (%)',\n",
       " 'Delivery Care (for births in the 5 years before the survey) - Home delivery conducted by skilled health personnel (out of total deliveries) (%)',\n",
       " 'Delivery Care (for births in the 5 years before the survey) - Births assisted by a doctor/nurse/LHV/ANM/other health personnel (%)',\n",
       " 'Delivery Care (for births in the 5 years before the survey) - Births delivered by caesarean section (%)',\n",
       " 'Delivery Care (for births in the 5 years before the survey) - Births in a private health facility delivered by caesarean section (%)',\n",
       " 'Delivery Care (for births in the 5 years before the survey) - Births in a public health facility delivered by caesarean section (%)',\n",
       " 'Child Immunizations and Vitamin A Supplementation - Children age 12-23 months fully immunized (BCG; measles; and 3 doses each of polio and DPT) (%)',\n",
       " 'Child Immunizations and Vitamin A Supplementation - Children age 12-23 months who have received BCG (%)',\n",
       " 'Child Immunizations and Vitamin A Supplementation - Children age 12-23 months who have received 3 doses of polio vaccine (%)',\n",
       " 'Child Immunizations and Vitamin A Supplementation - Children age 12-23 months who have received 3 doses of DPT vaccine (%)',\n",
       " 'Child Immunizations and Vitamin A Supplementation - Children age 12-23 months who have received measles vaccine (%)',\n",
       " 'Child Immunizations and Vitamin A Supplementation - Children age 12-23 months who have received 3 doses of Hepatitis B vaccine (%)',\n",
       " 'Child Immunizations and Vitamin A Supplementation - Children age 9-59 months who received a vitamin A dose in last 6 months (%)',\n",
       " 'Child Immunizations and Vitamin A Supplementation - Children age 12-23 months who received most of the vaccinations in public health facility (%)',\n",
       " 'Child Immunizations and Vitamin A Supplementation - Children age 12-23 months who received most of the vaccinations in private health facility (%)',\n",
       " 'Treatment of Childhood Diseases (children under age 5 years) - Prevalence of diarrhoea (reported) in the last 2 weeks preceding the survey (%)',\n",
       " 'Treatment of Childhood Diseases (children under age 5 years) - Children with diarrhoea in the last 2 weeks who received oral rehydration salts (ORS) (%)',\n",
       " 'Treatment of Childhood Diseases (children under age 5 years) - Children with diarrhoea in the last 2 weeks who received zinc (%)',\n",
       " 'Treatment of Childhood Diseases (children under age 5 years) - Children with diarrhoea in the last 2 weeks taken to a health facility (%)',\n",
       " 'Treatment of Childhood Diseases (children under age 5 years) - Prevalence of symptoms of acute respiratory infection (ARI) in the last 2 weeks preceding the survey (%)',\n",
       " 'Treatment of Childhood Diseases (children under age 5 years) - Children with fever or symptoms of ARI in the last 2 weeks preceding the survey taken to a health facility (%)',\n",
       " 'Child Feeding Practices and Nutritional Status of Children - Children under age 3 years breastfed within one hour of birth (%)',\n",
       " 'Child Feeding Practices and Nutritional Status of Children - Children under age 6 months exclusively breastfed (%)',\n",
       " 'Child Feeding Practices and Nutritional Status of Children - Children age 6-8 months receiving solid or semi-solid food and breastmilk (%)',\n",
       " 'Child Feeding Practices and Nutritional Status of Children - Breastfeeding children age 6-23 months receiving an adequate diet (%',\n",
       " 'Child Feeding Practices and Nutritional Status of Children - Non-breastfeeding children age 6-23 months receiving an adequate diet (%',\n",
       " 'Child Feeding Practices and Nutritional Status of Children - Total children age 6-23 months receiving an adequate diet (%',\n",
       " 'Child Feeding Practices and Nutritional Status of Children - Children under 5 years who are stunted (height-for-age) (%)',\n",
       " 'Child Feeding Practices and Nutritional Status of Children - Children under 5 years who are wasted (weight-for-height) (%)',\n",
       " 'Child Feeding Practices and Nutritional Status of Children - Children under 5 years who are severely wasted (weight-for-height) (%)',\n",
       " 'Child Feeding Practices and Nutritional Status of Children - Children under 5 years who are underweight (weight-for-age) (%)',\n",
       " 'Nutritional Status of Adults (age 15-49 years) - Women whose Body Mass Index (BMI) is below normal (BMI < 18.5 kg/m2) (%)',\n",
       " 'Nutritional Status of Adults (age 15-49 years) - Men whose Body Mass Index (BMI) is below normal (BMI < 18.5 kg/m2) (%)',\n",
       " 'Nutritional Status of Adults (age 15-49 years) - Women who are overweight or obese (BMI >= 25.0 kg/m2) (%)',\n",
       " 'Nutritional Status of Adults (age 15-49 years) - Men who are overweight or obese (BMI >= 25.0 kg/m2) (%)',\n",
       " 'Anaemia among Children and Adults15 - Children age 6-59 months who are anaemic (<11.0 g/dl) (%)',\n",
       " 'Anaemia among Children and Adults15 - Non-pregnant women age 15-49 years who are anaemic (<12.0 g/dl) (%)',\n",
       " 'Anaemia among Children and Adults15 - Pregnant women age 15-49 years who are anaemic (<11.0 g/dl) (%)',\n",
       " 'Anaemia among Children and Adults15 - All women age 15-49 years who are anaemic (%)',\n",
       " 'Anaemia among Children and Adults15 - Men age 15-49 years who are anaemic (<13.0 g/dl) (%)',\n",
       " 'Women - Blood sugar level - high (>140 mg/dl) (%)',\n",
       " 'Women - Blood sugar level - very high (>160 mg/dl) (%)',\n",
       " 'Men - Blood sugar level - high (>140 mg/dl) (%)',\n",
       " 'Men - Blood sugar level - very high (>160 mg/dl) (%)',\n",
       " 'Women - Slightly above normal (Systolic 140-159 mm of Hg and/or Diastolic 90-99 mm of Hg) (%)',\n",
       " 'Women - Moderately high (Systolic 160-179 mm of Hg and/or Diastolic 100-109 mm of Hg) (%)',\n",
       " 'Women - Very high (Systolic >= 180 mm of Hg and/or Diastolic >= 110 mm of Hg) (%)',\n",
       " 'Men - Slightly above normal (Systolic 140-159 mm of Hg and/or Diastolic 90-99 mm of Hg) (%)',\n",
       " 'Men - Moderately high (Systolic 160-179 mm of Hg and/or Diastolic 100-109 mm of Hg) (%)',\n",
       " 'Men - Very high (Systolic >= 180 mm of Hg and/or Diastolic >= 110 mm of Hg) (%)',\n",
       " 'Women Age 15-49 Years Who Have Ever Undergone Examinations of: - Cervix (%)',\n",
       " 'Women Age 15-49 Years Who Have Ever Undergone Examinations of: - Breast (%)',\n",
       " 'Women Age 15-49 Years Who Have Ever Undergone Examinations of: - Oral cavity (%)',\n",
       " 'Knowledge of HIV/AIDS among Adults (age 15-49 years) - Women who have comprehensive knowledge of HIV/AIDS (%)',\n",
       " 'Knowledge of HIV/AIDS among Adults (age 15-49 years) - Men who have comprehensive knowledge of HIV/AIDS (%)',\n",
       " 'Knowledge of HIV/AIDS among Adults (age 15-49 years) - Women who know that consistent condom use can reduce the chances of getting HIV/AIDS (%)',\n",
       " 'Knowledge of HIV/AIDS among Adults (age 15-49 years) - Men who know that consistent condom use can reduce the chances of getting HIV/AIDS (%)',\n",
       " \"Women's Empowerment and Gender Based Violence (age 15-49 years) - Currently married women who usually participate in household decisions (%)\",\n",
       " \"Women's Empowerment and Gender Based Violence (age 15-49 years) - Women who worked in the last 12 months who were paid in cash (%)\",\n",
       " \"Women's Empowerment and Gender Based Violence (age 15-49 years) - Ever-married women who have ever experienced spousal violence (%)\",\n",
       " \"Women's Empowerment and Gender Based Violence (age 15-49 years) - Ever-married women who have experienced violence during any pregnancy (%)\",\n",
       " \"Women's Empowerment and Gender Based Violence (age 15-49 years) - Women owning a house and/or land (alone or jointly with others) (%)\",\n",
       " \"Women's Empowerment and Gender Based Violence (age 15-49 years) - Women having a bank or savings account that they themselves use (%)\",\n",
       " \"Women's Empowerment and Gender Based Violence (age 15-49 years) - Women having a mobile phone that they themselves use (%)\",\n",
       " \"Women's Empowerment and Gender Based Violence (age 15-49 years) - Women age 15-24 years who use hygienic methods of protection during their menstrual period (%)\",\n",
       " 'Tobacco Use and Alcohol Consumption among Adults (age 15-49 years) - Women who use any kind of tobacco (%)',\n",
       " 'Tobacco Use and Alcohol Consumption among Adults (age 15-49 years) - Men who use any kind of tobacco (%)',\n",
       " 'Tobacco Use and Alcohol Consumption among Adults (age 15-49 years) - Women who consume alcohol (%)',\n",
       " 'Tobacco Use and Alcohol Consumption among Adults (age 15-49 years) - Men who consume alcohol (%)',\n",
       " 'Tobacco Use and Alcohol Consumption among Adults (age 15-49 years) - Women who tried to stop smoking or using tobacco in any other form during the past 12 months (%)',\n",
       " 'Tobacco Use and Alcohol Consumption among Adults (age 15-49 years) - Men who tried to stop smoking or using tobacco in any other form (during the past 12 months) %',\n",
       " 'Note of : Population and Household Profile - Sex ratio at birth for children born in the last five years (females per 1000 males)',\n",
       " 'Note of : Characteristics of Adults (age 15-49) - Men who are literate (%)',\n",
       " 'Note of : Marriage and Fertility - Women age 20-24 years married before age 18 years (%)',\n",
       " 'Note of : Marriage and Fertility - Men age 25-29 years married before age 21 years (%)',\n",
       " 'Note of : Marriage and Fertility - Women age 15-19 years who were already mothers or pregnant at the time of the survey (%)',\n",
       " 'Note of : Infant and Child Mortality Rates (per 1000 live births) - Infant mortality rate (IMR)',\n",
       " 'Note of : Infant and Child Mortality Rates (per 1000 live births) - Under-five mortality rate (U5MR)',\n",
       " 'Note of : Quality of Family Planning Services - Current users ever told about side effects of current method (%)',\n",
       " 'Note of : Maternity Care (for last birth in the 5 years before the survey) - Mothers who had antenatal check-up in the first trimester (%)',\n",
       " 'Note of : Maternity Care (for last birth in the 5 years before the survey) - Mothers who had at least 4 antenatal care visits (%)',\n",
       " 'Note of : Maternity Care (for last birth in the 5 years before the survey) - Mothers whose last birth was protected against neonatal tetanus (%)',\n",
       " 'Note of : Maternity Care (for last birth in the 5 years before the survey) - Mothers who consumed iron folic acid for 100 days or more when they were pregnant (%)',\n",
       " 'Note of : Maternity Care (for last birth in the 5 years before the survey) - Mothers who had full antenatal care (%)',\n",
       " 'Note of : Maternity Care (for last birth in the 5 years before the survey) - Registered pregnancies for which the mother received Mother and Child Protection (MCP) card (%)',\n",
       " 'Note of : Maternity Care (for last birth in the 5 years before the survey) - Mothers who received postnatal care from a doctor/nurse/LHV/ANM/midwife/other health personnel within 2 days of delivery (%)',\n",
       " 'Note of : Maternity Care (for last birth in the 5 years before the survey) - Mothers who received financial assistance under Janani Suraksha Yojana (JSY) for births delivered in an institution (%)',\n",
       " 'Note of : Maternity Care (for last birth in the 5 years before the survey) - Average out of pocket expenditure per delivery in public health facility (Rs.)',\n",
       " 'Note of : Maternity Care (for last birth in the 5 years before the survey) - Children born at home who were taken to a health facility for check-up within 24 hours of birth (%)',\n",
       " 'Note of : Maternity Care (for last birth in the 5 years before the survey) - Children who received a health check after birth from a doctor/nurse/LHV/ANM/ midwife/other health personnel within 2 days of birth (%)',\n",
       " 'Note of : Delivery Care (for births in the 5 years before the survey) - Births in a private health facility delivered by caesarean section (%)',\n",
       " 'Note of : Delivery Care (for births in the 5 years before the survey) - Births in a public health facility delivered by caesarean section (%)',\n",
       " 'Note of : Child Immunizations and Vitamin A Supplementation - Children age 12-23 months fully immunized (BCG; measles; and 3 doses each of polio and DPT) (%)',\n",
       " 'Note of : Child Immunizations and Vitamin A Supplementation - Children age 12-23 months who have received BCG (%)',\n",
       " 'Note of : Child Immunizations and Vitamin A Supplementation - Children age 12-23 months who have received 3 doses of polio vaccine (%)',\n",
       " 'Note of : Child Immunizations and Vitamin A Supplementation - Children age 12-23 months who have received 3 doses of DPT vaccine (%)',\n",
       " 'Note of : Child Immunizations and Vitamin A Supplementation - Children age 12-23 months who have received measles vaccine (%)',\n",
       " 'Note of : Child Immunizations and Vitamin A Supplementation - Children age 12-23 months who have received 3 doses of Hepatitis B vaccine (%)',\n",
       " 'Note of : Child Immunizations and Vitamin A Supplementation - Children age 12-23 months who received most of the vaccinations in public health facility (%)',\n",
       " 'Note of : Child Immunizations and Vitamin A Supplementation - Children age 12-23 months who received most of the vaccinations in private health facility (%)',\n",
       " 'Note of : Treatment of Childhood Diseases (children under age 5 years) - Children with diarrhoea in the last 2 weeks who received oral rehydration salts (ORS) (%)',\n",
       " 'Note of : Treatment of Childhood Diseases (children under age 5 years) - Children with diarrhoea in the last 2 weeks who received zinc (%)',\n",
       " 'Note of : Treatment of Childhood Diseases (children under age 5 years) - Children with diarrhoea in the last 2 weeks taken to a health facility (%)',\n",
       " 'Note of : Treatment of Childhood Diseases (children under age 5 years) - Children with fever or symptoms of ARI in the last 2 weeks preceding the survey taken to a health facility (%)',\n",
       " 'Note of : Child Feeding Practices and Nutritional Status of Children - Children under age 3 years breastfed within one hour of birth (%)',\n",
       " 'Note of : Child Feeding Practices and Nutritional Status of Children - Children under age 6 months exclusively breastfed (%)',\n",
       " 'Note of : Child Feeding Practices and Nutritional Status of Children - Children age 6-8 months receiving solid or semi-solid food and breastmilk (%)',\n",
       " 'Note of : Child Feeding Practices and Nutritional Status of Children - Breastfeeding children age 6-23 months receiving an adequate diet (%',\n",
       " 'Note of : Child Feeding Practices and Nutritional Status of Children - Non-breastfeeding children age 6-23 months receiving an adequate diet (%',\n",
       " 'Note of : Child Feeding Practices and Nutritional Status of Children - Total children age 6-23 months receiving an adequate diet (%',\n",
       " 'Note of : Nutritional Status of Adults (age 15-49 years) - Men whose Body Mass Index (BMI) is below normal (BMI < 18.5 kg/m2) (%)',\n",
       " 'Note of : Nutritional Status of Adults (age 15-49 years) - Men who are overweight or obese (BMI >= 25.0 kg/m2) (%)',\n",
       " 'Note of : Anaemia among Children and Adults15 - Children age 6-59 months who are anaemic (<11.0 g/dl) (%)',\n",
       " 'Note of : Anaemia among Children and Adults15 - Non-pregnant women age 15-49 years who are anaemic (<12.0 g/dl) (%)',\n",
       " 'Note of : Anaemia among Children and Adults15 - Pregnant women age 15-49 years who are anaemic (<11.0 g/dl) (%)',\n",
       " 'Note of : Anaemia among Children and Adults15 - All women age 15-49 years who are anaemic (%)',\n",
       " 'Note of : Anaemia among Children and Adults15 - Men age 15-49 years who are anaemic (<13.0 g/dl) (%)',\n",
       " 'Note of : Women - Blood sugar level - high (>140 mg/dl) (%)',\n",
       " 'Note of : Women - Blood sugar level - very high (>160 mg/dl) (%)',\n",
       " 'Note of : Men - Blood sugar level - high (>140 mg/dl) (%)',\n",
       " 'Note of : Men - Blood sugar level - very high (>160 mg/dl) (%)',\n",
       " 'Note of : Women - Slightly above normal (Systolic 140-159 mm of Hg and/or Diastolic 90-99 mm of Hg) (%)',\n",
       " 'Note of : Women - Moderately high (Systolic 160-179 mm of Hg and/or Diastolic 100-109 mm of Hg) (%)',\n",
       " 'Note of : Women - Very high (Systolic >= 180 mm of Hg and/or Diastolic >= 110 mm of Hg) (%)',\n",
       " 'Note of : Men - Slightly above normal (Systolic 140-159 mm of Hg and/or Diastolic 90-99 mm of Hg) (%)',\n",
       " 'Note of : Men - Moderately high (Systolic 160-179 mm of Hg and/or Diastolic 100-109 mm of Hg) (%)',\n",
       " 'Note of : Men - Very high (Systolic >= 180 mm of Hg and/or Diastolic >= 110 mm of Hg) (%)',\n",
       " 'Note of : Women Age 15-49 Years Who Have Ever Undergone Examinations of: - Cervix (%)',\n",
       " 'Note of : Women Age 15-49 Years Who Have Ever Undergone Examinations of: - Breast (%)',\n",
       " 'Note of : Women Age 15-49 Years Who Have Ever Undergone Examinations of: - Oral cavity (%)',\n",
       " 'Note of : Knowledge of HIV/AIDS among Adults (age 15-49 years) - Women who have comprehensive knowledge of HIV/AIDS (%)',\n",
       " 'Note of : Knowledge of HIV/AIDS among Adults (age 15-49 years) - Men who have comprehensive knowledge of HIV/AIDS (%)',\n",
       " 'Note of : Knowledge of HIV/AIDS among Adults (age 15-49 years) - Women who know that consistent condom use can reduce the chances of getting HIV/AIDS (%)',\n",
       " 'Note of : Knowledge of HIV/AIDS among Adults (age 15-49 years) - Men who know that consistent condom use can reduce the chances of getting HIV/AIDS (%)',\n",
       " \"Note of : Women's Empowerment and Gender Based Violence (age 15-49 years) - Currently married women who usually participate in household decisions (%)\",\n",
       " \"Note of : Women's Empowerment and Gender Based Violence (age 15-49 years) - Women who worked in the last 12 months who were paid in cash (%)\",\n",
       " \"Note of : Women's Empowerment and Gender Based Violence (age 15-49 years) - Ever-married women who have ever experienced spousal violence (%)\",\n",
       " \"Note of : Women's Empowerment and Gender Based Violence (age 15-49 years) - Ever-married women who have experienced violence during any pregnancy (%)\",\n",
       " \"Note of : Women's Empowerment and Gender Based Violence (age 15-49 years) - Women owning a house and/or land (alone or jointly with others) (%)\",\n",
       " \"Note of : Women's Empowerment and Gender Based Violence (age 15-49 years) - Women having a bank or savings account that they themselves use (%)\",\n",
       " \"Note of : Women's Empowerment and Gender Based Violence (age 15-49 years) - Women having a mobile phone that they themselves use (%)\",\n",
       " \"Note of : Women's Empowerment and Gender Based Violence (age 15-49 years) - Women age 15-24 years who use hygienic methods of protection during their menstrual period (%)\",\n",
       " 'Note of : Tobacco Use and Alcohol Consumption among Adults (age 15-49 years) - Men who use any kind of tobacco (%)',\n",
       " 'Note of : Tobacco Use and Alcohol Consumption among Adults (age 15-49 years) - Men who consume alcohol (%)',\n",
       " 'Note of : Tobacco Use and Alcohol Consumption among Adults (age 15-49 years) - Women who tried to stop smoking or using tobacco in any other form during the past 12 months (%)',\n",
       " 'Note of : Tobacco Use and Alcohol Consumption among Adults (age 15-49 years) - Men who tried to stop smoking or using tobacco in any other form (during the past 12 months) %']"
      ]
     },
     "execution_count": 3,
     "metadata": {},
     "output_type": "execute_result"
    }
   ],
   "source": [
    "data.column_names()"
   ]
  },
  {
   "cell_type": "markdown",
   "metadata": {},
   "source": [
    "### Feature Selection and Filteration of Data"
   ]
  },
  {
   "cell_type": "code",
   "execution_count": 4,
   "metadata": {},
   "outputs": [],
   "source": [
    "selected_columns = ['Infant and Child Mortality Rates (per 1000 live births) - Infant mortality rate (IMR)',\n",
    " 'Infant and Child Mortality Rates (per 1000 live births) - Under-five mortality rate (U5MR)',\n",
    " 'Maternity Care (for last birth in the 5 years before the survey) - Mothers who had antenatal check-up in the first trimester (%)',\n",
    " 'Maternity Care (for last birth in the 5 years before the survey) - Mothers who had at least 4 antenatal care visits (%)',\n",
    " 'Maternity Care (for last birth in the 5 years before the survey) - Mothers whose last birth was protected against neonatal tetanus (%)',\n",
    " 'Maternity Care (for last birth in the 5 years before the survey) - Mothers who consumed iron folic acid for 100 days or more when they were pregnant (%)',\n",
    " 'Maternity Care (for last birth in the 5 years before the survey) - Mothers who had full antenatal care (%)',\n",
    " 'Maternity Care (for last birth in the 5 years before the survey) - Registered pregnancies for which the mother received Mother and Child Protection (MCP) card (%)',\n",
    " 'Maternity Care (for last birth in the 5 years before the survey) - Mothers who received postnatal care from a doctor/nurse/LHV/ANM/midwife/other health personnel within 2 days of delivery (%)',\n",
    " 'Maternity Care (for last birth in the 5 years before the survey) - Mothers who received financial assistance under Janani Suraksha Yojana (JSY) for births delivered in an institution (%)',\n",
    " 'Maternity Care (for last birth in the 5 years before the survey) - Average out of pocket expenditure per delivery in public health facility (Rs.)',\n",
    " 'Maternity Care (for last birth in the 5 years before the survey) - Children born at home who were taken to a health facility for check-up within 24 hours of birth (%)',\n",
    " 'Maternity Care (for last birth in the 5 years before the survey) - Children who received a health check after birth from a doctor/nurse/LHV/ANM/ midwife/other health personnel within 2 days of birth (%)',\n",
    " 'Delivery Care (for births in the 5 years before the survey) - Institutional births (%)']"
   ]
  },
  {
   "cell_type": "code",
   "execution_count": 5,
   "metadata": {},
   "outputs": [],
   "source": [
    "data = data[selected_columns]"
   ]
  },
  {
   "cell_type": "markdown",
   "metadata": {},
   "source": [
    "### Rename columns for convenience"
   ]
  },
  {
   "cell_type": "code",
   "execution_count": 6,
   "metadata": {},
   "outputs": [],
   "source": [
    "data = data.rename(\n",
    "{\n",
    "    'Infant and Child Mortality Rates (per 1000 live births) - Infant mortality rate (IMR)' : 'IMR',\n",
    "    'Infant and Child Mortality Rates (per 1000 live births) - Under-five mortality rate (U5MR)' : 'U5MR',\n",
    "    'Maternity Care (for last birth in the 5 years before the survey) - Mothers who had antenatal check-up in the first trimester (%)' : 'first_trimester_check',\n",
    "    'Maternity Care (for last birth in the 5 years before the survey) - Mothers who had at least 4 antenatal care visits (%)' : 'at_least_4_checks',\n",
    "    'Maternity Care (for last birth in the 5 years before the survey) - Mothers whose last birth was protected against neonatal tetanus (%)': 'tetanus_vaccination_mothers',\n",
    "    'Maternity Care (for last birth in the 5 years before the survey) - Mothers who consumed iron folic acid for 100 days or more when they were pregnant (%)' : 'folic_acid_consumed',\n",
    "    'Maternity Care (for last birth in the 5 years before the survey) - Mothers who had full antenatal care (%)' : 'full_care',\n",
    "    'Maternity Care (for last birth in the 5 years before the survey) - Registered pregnancies for which the mother received Mother and Child Protection (MCP) card (%)' : 'MCP_card',\n",
    "    'Maternity Care (for last birth in the 5 years before the survey) - Mothers who received postnatal care from a doctor/nurse/LHV/ANM/midwife/other health personnel within 2 days of delivery (%)' : 'postnatal_care',\n",
    "    'Maternity Care (for last birth in the 5 years before the survey) - Mothers who received financial assistance under Janani Suraksha Yojana (JSY) for births delivered in an institution (%)' : 'financial_assistance',\n",
    "    'Maternity Care (for last birth in the 5 years before the survey) - Average out of pocket expenditure per delivery in public health facility (Rs.)' : 'avg_expenditure',\n",
    "    'Maternity Care (for last birth in the 5 years before the survey) - Children born at home who were taken to a health facility for check-up within 24 hours of birth (%)' : 'home_post_partum_check',\n",
    "    'Maternity Care (for last birth in the 5 years before the survey) - Children who received a health check after birth from a doctor/nurse/LHV/ANM/ midwife/other health personnel within 2 days of birth (%)': 'check_2_days',\n",
    "    'Delivery Care (for births in the 5 years before the survey) - Institutional births (%)' : 'institutional_births'\n",
    "    \n",
    "    \n",
    "})\n",
    "\n",
    "#small_features = ['first_trimester_check', 'at_least_4_checks', 'full_care', 'post_partum_check']"
   ]
  },
  {
   "cell_type": "code",
   "execution_count": 7,
   "metadata": {
    "scrolled": true
   },
   "outputs": [
    {
     "data": {
      "text/plain": [
       "['first_trimester_check',\n",
       " 'at_least_4_checks',\n",
       " 'tetanus_vaccination_mothers',\n",
       " 'folic_acid_consumed',\n",
       " 'full_care',\n",
       " 'MCP_card',\n",
       " 'postnatal_care',\n",
       " 'financial_assistance',\n",
       " 'avg_expenditure',\n",
       " 'home_post_partum_check',\n",
       " 'check_2_days',\n",
       " 'institutional_births']"
      ]
     },
     "execution_count": 7,
     "metadata": {},
     "output_type": "execute_result"
    }
   ],
   "source": [
    "features = data.column_names()[2:]\n",
    "features"
   ]
  },
  {
   "cell_type": "code",
   "execution_count": 8,
   "metadata": {},
   "outputs": [],
   "source": [
    "data_subset = data[['IMR'] + features]\n",
    "data_subset = data_subset.dropna()"
   ]
  },
  {
   "cell_type": "markdown",
   "metadata": {},
   "source": [
    "## Train-Test Split"
   ]
  },
  {
   "cell_type": "code",
   "execution_count": 9,
   "metadata": {},
   "outputs": [],
   "source": [
    "train_data, test_data = data_subset.random_split(.8, seed = 0)"
   ]
  },
  {
   "cell_type": "markdown",
   "metadata": {},
   "source": [
    "# Simple Linear Regresssion\n",
    "Using a single feature"
   ]
  },
  {
   "cell_type": "code",
   "execution_count": 10,
   "metadata": {
    "scrolled": true
   },
   "outputs": [
    {
     "data": {
      "text/html": [
       "<pre>Linear regression:</pre>"
      ],
      "text/plain": [
       "Linear regression:"
      ]
     },
     "metadata": {},
     "output_type": "display_data"
    },
    {
     "data": {
      "text/html": [
       "<pre>--------------------------------------------------------</pre>"
      ],
      "text/plain": [
       "--------------------------------------------------------"
      ]
     },
     "metadata": {},
     "output_type": "display_data"
    },
    {
     "data": {
      "text/html": [
       "<pre>Number of examples          : 70</pre>"
      ],
      "text/plain": [
       "Number of examples          : 70"
      ]
     },
     "metadata": {},
     "output_type": "display_data"
    },
    {
     "data": {
      "text/html": [
       "<pre>Number of features          : 1</pre>"
      ],
      "text/plain": [
       "Number of features          : 1"
      ]
     },
     "metadata": {},
     "output_type": "display_data"
    },
    {
     "data": {
      "text/html": [
       "<pre>Number of unpacked features : 1</pre>"
      ],
      "text/plain": [
       "Number of unpacked features : 1"
      ]
     },
     "metadata": {},
     "output_type": "display_data"
    },
    {
     "data": {
      "text/html": [
       "<pre>Number of coefficients    : 2</pre>"
      ],
      "text/plain": [
       "Number of coefficients    : 2"
      ]
     },
     "metadata": {},
     "output_type": "display_data"
    },
    {
     "data": {
      "text/html": [
       "<pre>Starting Newton Method</pre>"
      ],
      "text/plain": [
       "Starting Newton Method"
      ]
     },
     "metadata": {},
     "output_type": "display_data"
    },
    {
     "data": {
      "text/html": [
       "<pre>--------------------------------------------------------</pre>"
      ],
      "text/plain": [
       "--------------------------------------------------------"
      ]
     },
     "metadata": {},
     "output_type": "display_data"
    },
    {
     "data": {
      "text/html": [
       "<pre>+-----------+----------+--------------+--------------------+---------------------------------+</pre>"
      ],
      "text/plain": [
       "+-----------+----------+--------------+--------------------+---------------------------------+"
      ]
     },
     "metadata": {},
     "output_type": "display_data"
    },
    {
     "data": {
      "text/html": [
       "<pre>| Iteration | Passes   | Elapsed Time | Training Max Error | Training Root-Mean-Square Error |</pre>"
      ],
      "text/plain": [
       "| Iteration | Passes   | Elapsed Time | Training Max Error | Training Root-Mean-Square Error |"
      ]
     },
     "metadata": {},
     "output_type": "display_data"
    },
    {
     "data": {
      "text/html": [
       "<pre>+-----------+----------+--------------+--------------------+---------------------------------+</pre>"
      ],
      "text/plain": [
       "+-----------+----------+--------------+--------------------+---------------------------------+"
      ]
     },
     "metadata": {},
     "output_type": "display_data"
    },
    {
     "data": {
      "text/html": [
       "<pre>| 1         | 2        | 1.003979     | 20.491233          | 8.336200                        |</pre>"
      ],
      "text/plain": [
       "| 1         | 2        | 1.003979     | 20.491233          | 8.336200                        |"
      ]
     },
     "metadata": {},
     "output_type": "display_data"
    },
    {
     "data": {
      "text/html": [
       "<pre>+-----------+----------+--------------+--------------------+---------------------------------+</pre>"
      ],
      "text/plain": [
       "+-----------+----------+--------------+--------------------+---------------------------------+"
      ]
     },
     "metadata": {},
     "output_type": "display_data"
    },
    {
     "data": {
      "text/html": [
       "<pre>SUCCESS: Optimal solution found.</pre>"
      ],
      "text/plain": [
       "SUCCESS: Optimal solution found."
      ]
     },
     "metadata": {},
     "output_type": "display_data"
    },
    {
     "data": {
      "text/html": [
       "<pre></pre>"
      ],
      "text/plain": []
     },
     "metadata": {},
     "output_type": "display_data"
    }
   ],
   "source": [
    "model = turicreate.linear_regression.create(train_data, target= 'IMR', features = ['full_care'])"
   ]
  },
  {
   "cell_type": "markdown",
   "metadata": {},
   "source": [
    "## Sample Prediction"
   ]
  },
  {
   "cell_type": "code",
   "execution_count": 11,
   "metadata": {},
   "outputs": [
    {
     "name": "stdout",
     "output_type": "stream",
     "text": [
      "Sample Query has data =  24.0\n",
      "Sample Query actual mortality rate value =  39\n"
     ]
    }
   ],
   "source": [
    "print ('Sample Query has data = ', test_data['full_care'][1])\n",
    "\n",
    "print('Sample Query actual mortality rate value = ', test_data[1]['IMR'])"
   ]
  },
  {
   "cell_type": "code",
   "execution_count": 12,
   "metadata": {},
   "outputs": [
    {
     "data": {
      "text/plain": [
       "dtype: float\n",
       "Rows: 1\n",
       "[36.14981477739791]"
      ]
     },
     "execution_count": 12,
     "metadata": {},
     "output_type": "execute_result"
    }
   ],
   "source": [
    "model.predict(test_data[1])"
   ]
  },
  {
   "cell_type": "markdown",
   "metadata": {},
   "source": [
    "### Model Evaluation "
   ]
  },
  {
   "cell_type": "code",
   "execution_count": 13,
   "metadata": {},
   "outputs": [
    {
     "data": {
      "text/plain": [
       "{'max_error': 17.593779816534017, 'rmse': 8.25934547800251}"
      ]
     },
     "execution_count": 13,
     "metadata": {},
     "output_type": "execute_result"
    }
   ],
   "source": [
    "model.evaluate(test_data)"
   ]
  },
  {
   "cell_type": "code",
   "execution_count": 14,
   "metadata": {},
   "outputs": [],
   "source": [
    "model.save('simple_lr_model.tc')"
   ]
  },
  {
   "cell_type": "markdown",
   "metadata": {},
   "source": [
    "# Multiple Regression\n",
    "Using more than one feature to make predictions"
   ]
  },
  {
   "cell_type": "code",
   "execution_count": 15,
   "metadata": {
    "scrolled": true
   },
   "outputs": [
    {
     "data": {
      "text/html": [
       "<pre>Linear regression:</pre>"
      ],
      "text/plain": [
       "Linear regression:"
      ]
     },
     "metadata": {},
     "output_type": "display_data"
    },
    {
     "data": {
      "text/html": [
       "<pre>--------------------------------------------------------</pre>"
      ],
      "text/plain": [
       "--------------------------------------------------------"
      ]
     },
     "metadata": {},
     "output_type": "display_data"
    },
    {
     "data": {
      "text/html": [
       "<pre>Number of examples          : 70</pre>"
      ],
      "text/plain": [
       "Number of examples          : 70"
      ]
     },
     "metadata": {},
     "output_type": "display_data"
    },
    {
     "data": {
      "text/html": [
       "<pre>Number of features          : 12</pre>"
      ],
      "text/plain": [
       "Number of features          : 12"
      ]
     },
     "metadata": {},
     "output_type": "display_data"
    },
    {
     "data": {
      "text/html": [
       "<pre>Number of unpacked features : 12</pre>"
      ],
      "text/plain": [
       "Number of unpacked features : 12"
      ]
     },
     "metadata": {},
     "output_type": "display_data"
    }
   ],
   "source": [
    "model = turicreate.linear_regression.create(train_data, target= 'IMR', features= features)"
   ]
  },
  {
   "cell_type": "code",
   "execution_count": 16,
   "metadata": {
    "scrolled": true
   },
   "outputs": [
    {
     "name": "stdout",
     "output_type": "stream",
     "text": [
      "+-----------------------------+-------+------------------------+-----+\n",
      "|             name            | index |         value          | ... |\n",
      "+-----------------------------+-------+------------------------+-----+\n",
      "|         (intercept)         |  None |    47.291528148195     | ... |\n",
      "|    first_trimester_check    |  None |   0.1650082976657481   | ... |\n",
      "|      at_least_4_checks      |  None |  -0.1801146493082395   | ... |\n",
      "| tetanus_vaccination_mothers |  None |  0.03307424216042351   | ... |\n",
      "|     folic_acid_consumed     |  None |  0.22941927016792596   | ... |\n",
      "|          full_care          |  None |  -0.2538911515360698   | ... |\n",
      "|           MCP_card          |  None |   -0.043271422582478   | ... |\n",
      "|        postnatal_care       |  None |  -0.31123387473209363  | ... |\n",
      "|     financial_assistance    |  None |   0.1956684443905419   | ... |\n",
      "|       avg_expenditure       |  None | -0.0008790121063311567 | ... |\n",
      "|    home_post_partum_check   |  None |   0.0926350065263792   | ... |\n",
      "|         check_2_days        |  None |   0.3059183358538693   | ... |\n",
      "|     institutional_births    |  None |  -0.04024881459400361  | ... |\n",
      "+-----------------------------+-------+------------------------+-----+\n",
      "[13 rows x 4 columns]\n",
      "\n"
     ]
    }
   ],
   "source": [
    "model.coefficients.print_rows(14, 3)"
   ]
  },
  {
   "cell_type": "code",
   "execution_count": 17,
   "metadata": {},
   "outputs": [
    {
     "data": {
      "text/html": [
       "<pre>Number of coefficients    : 13</pre>"
      ],
      "text/plain": [
       "Number of coefficients    : 13"
      ]
     },
     "metadata": {},
     "output_type": "display_data"
    },
    {
     "data": {
      "text/html": [
       "<pre>Starting Newton Method</pre>"
      ],
      "text/plain": [
       "Starting Newton Method"
      ]
     },
     "metadata": {},
     "output_type": "display_data"
    },
    {
     "data": {
      "text/html": [
       "<pre>--------------------------------------------------------</pre>"
      ],
      "text/plain": [
       "--------------------------------------------------------"
      ]
     },
     "metadata": {},
     "output_type": "display_data"
    },
    {
     "data": {
      "text/html": [
       "<pre>+-----------+----------+--------------+--------------------+---------------------------------+</pre>"
      ],
      "text/plain": [
       "+-----------+----------+--------------+--------------------+---------------------------------+"
      ]
     },
     "metadata": {},
     "output_type": "display_data"
    },
    {
     "data": {
      "text/html": [
       "<pre>| Iteration | Passes   | Elapsed Time | Training Max Error | Training Root-Mean-Square Error |</pre>"
      ],
      "text/plain": [
       "| Iteration | Passes   | Elapsed Time | Training Max Error | Training Root-Mean-Square Error |"
      ]
     },
     "metadata": {},
     "output_type": "display_data"
    },
    {
     "data": {
      "text/html": [
       "<pre>+-----------+----------+--------------+--------------------+---------------------------------+</pre>"
      ],
      "text/plain": [
       "+-----------+----------+--------------+--------------------+---------------------------------+"
      ]
     },
     "metadata": {},
     "output_type": "display_data"
    },
    {
     "data": {
      "text/html": [
       "<pre>| 1         | 2        | 0.000651     | 18.634056          | 6.453983                        |</pre>"
      ],
      "text/plain": [
       "| 1         | 2        | 0.000651     | 18.634056          | 6.453983                        |"
      ]
     },
     "metadata": {},
     "output_type": "display_data"
    },
    {
     "data": {
      "text/html": [
       "<pre>+-----------+----------+--------------+--------------------+---------------------------------+</pre>"
      ],
      "text/plain": [
       "+-----------+----------+--------------+--------------------+---------------------------------+"
      ]
     },
     "metadata": {},
     "output_type": "display_data"
    },
    {
     "data": {
      "text/html": [
       "<pre>SUCCESS: Optimal solution found.</pre>"
      ],
      "text/plain": [
       "SUCCESS: Optimal solution found."
      ]
     },
     "metadata": {},
     "output_type": "display_data"
    },
    {
     "data": {
      "text/html": [
       "<pre></pre>"
      ],
      "text/plain": []
     },
     "metadata": {},
     "output_type": "display_data"
    }
   ],
   "source": [
    "# Save model for further use\n",
    "model.save('multiple_lr_model.tc')"
   ]
  },
  {
   "cell_type": "markdown",
   "metadata": {},
   "source": [
    "## Sample Prediction"
   ]
  },
  {
   "cell_type": "code",
   "execution_count": 18,
   "metadata": {},
   "outputs": [
    {
     "name": "stdout",
     "output_type": "stream",
     "text": [
      "Sample Query has data =  {'IMR': 39, 'first_trimester_check': 69.7, 'at_least_4_checks': 63.2, 'tetanus_vaccination_mothers': 83.5, 'folic_acid_consumed': 31.4, 'full_care': 24.0, 'MCP_card': 92.3, 'postnatal_care': 60.3, 'financial_assistance': 12.9, 'avg_expenditure': 2020, 'home_post_partum_check': 3.2, 'check_2_days': 15.8, 'institutional_births': 85.5}\n",
      "Sample Query actual mortality rate value =  39\n"
     ]
    }
   ],
   "source": [
    "print ('Sample Query has data = ', test_data[1])\n",
    "\n",
    "print('Sample Query actual mortality rate value = ', test_data[1]['IMR'])"
   ]
  },
  {
   "cell_type": "code",
   "execution_count": 19,
   "metadata": {},
   "outputs": [
    {
     "name": "stdout",
     "output_type": "stream",
     "text": [
      "prediction made by Regression ML model =  [30.957268932748796]\n"
     ]
    }
   ],
   "source": [
    "print('prediction made by Regression ML model = ', model.predict(test_data[1]))"
   ]
  },
  {
   "cell_type": "code",
   "execution_count": 20,
   "metadata": {},
   "outputs": [
    {
     "data": {
      "text/plain": [
       "dtype: float\n",
       "Rows: 1\n",
       "[30.957268932748796]"
      ]
     },
     "execution_count": 20,
     "metadata": {},
     "output_type": "execute_result"
    }
   ],
   "source": [
    "model.predict(test_data[1])"
   ]
  },
  {
   "cell_type": "markdown",
   "metadata": {},
   "source": [
    "### Model Evaluation"
   ]
  },
  {
   "cell_type": "code",
   "execution_count": 21,
   "metadata": {},
   "outputs": [
    {
     "data": {
      "text/plain": [
       "{'max_error': 12.086122564709115, 'rmse': 5.838726423119287}"
      ]
     },
     "execution_count": 21,
     "metadata": {},
     "output_type": "execute_result"
    }
   ],
   "source": [
    "model.evaluate(test_data)"
   ]
  },
  {
   "cell_type": "markdown",
   "metadata": {},
   "source": [
    "# LASSO REGRESSION: L1 penalty testing\n"
   ]
  },
  {
   "cell_type": "markdown",
   "metadata": {},
   "source": [
    "### Searching over large range of values of l1_penalty"
   ]
  },
  {
   "cell_type": "code",
   "execution_count": 22,
   "metadata": {},
   "outputs": [
    {
     "name": "stdout",
     "output_type": "stream",
     "text": [
      "best l1 penalty = 0.0\n"
     ]
    }
   ],
   "source": [
    "best_penalty = None\n",
    "min_rmse = None\n",
    "nnz_dict = {}\n",
    "errors = []\n",
    "for l1_penalty in np.linspace(0, 50, num=50):\n",
    "    model = turicreate.linear_regression.create(train_data, target='IMR', features=features, validation_set=None, \n",
    "                                               l1_penalty=l1_penalty, l2_penalty=0., verbose=False, max_iterations=100)\n",
    "    rmse = model.evaluate(test_data)['rmse']\n",
    "    errors.append(rmse)\n",
    "    nnz_dict[l1_penalty] = model.coefficients['value'].nnz()\n",
    "    if min_rmse == None or min_rmse > rmse:\n",
    "        min_rmse = rmse\n",
    "        best_penalty = l1_penalty\n",
    "        \n",
    "\n",
    "print('best l1 penalty = ' + str(best_penalty))\n"
   ]
  },
  {
   "cell_type": "code",
   "execution_count": 23,
   "metadata": {},
   "outputs": [
    {
     "data": {
      "text/plain": [
       "[<matplotlib.lines.Line2D at 0x7f1364229d30>,\n",
       " <matplotlib.lines.Line2D at 0x7f1364229e20>]"
      ]
     },
     "execution_count": 23,
     "metadata": {},
     "output_type": "execute_result"
    },
    {
     "data": {
      "image/png": "[encoded data removed]",
      "text/plain": [
       "<Figure size 432x288 with 1 Axes>"
      ]
     },
     "metadata": {
      "needs_background": "light"
     },
     "output_type": "display_data"
    }
   ],
   "source": [
    "plt.plot(np.linspace(0, 50, num=50), nnz_dict.values(), '-r',\n",
    "         np.linspace(0, 50, num=50), errors, '-g',)\n"
   ]
  },
  {
   "cell_type": "markdown",
   "metadata": {},
   "source": [
    "## Conclusion:\n",
    "For the current scenario, in the best-case with lowest rmse, no weights were set to 0, i.e. all the features were estimated to have a significant impact to the prediction of the target value."
   ]
  },
  {
   "cell_type": "markdown",
   "metadata": {},
   "source": [
    "# Polynomial Regression\n"
   ]
  },
  {
   "cell_type": "code",
   "execution_count": 24,
   "metadata": {},
   "outputs": [],
   "source": [
    "#Function for getting powers of values of given features for running Polynomial Regression.\n",
    "#polynomial_sframe accepts dataset (SFrame), list of features (string), and degree of polynomial (integer),\n",
    "#target column name(string)\n",
    "# and returns an SFrame\n",
    "def polynomial_sframe(data, features, degree, target=None):\n",
    "    # assume that degree >= 1\n",
    "    poly_sframe = turicreate.SFrame()\n",
    "    for feature in features:\n",
    "        # and set poly_sframe['power_1'] equal to the passed feature\n",
    "        poly_sframe[feature + '_power_1'] = data[feature]\n",
    "        if degree > 1:\n",
    "            for power in range(2, degree+1): \n",
    "                name = feature + '_power_' + str(power)\n",
    "                poly_sframe[name] = data[feature] ** power\n",
    "    if target:\n",
    "        columns = poly_sframe.column_names()\n",
    "        poly_sframe[target] = data[target]\n",
    "        return (poly_sframe, columns)\n",
    "    return poly_sframe"
   ]
  },
  {
   "cell_type": "code",
   "execution_count": 25,
   "metadata": {},
   "outputs": [
    {
     "data": {
      "text/plain": [
       "['first_trimester_check_power_1',\n",
       " 'first_trimester_check_power_2',\n",
       " 'at_least_4_checks_power_1',\n",
       " 'at_least_4_checks_power_2',\n",
       " 'tetanus_vaccination_mothers_power_1',\n",
       " 'tetanus_vaccination_mothers_power_2',\n",
       " 'folic_acid_consumed_power_1',\n",
       " 'folic_acid_consumed_power_2',\n",
       " 'full_care_power_1',\n",
       " 'full_care_power_2',\n",
       " 'MCP_card_power_1',\n",
       " 'MCP_card_power_2',\n",
       " 'postnatal_care_power_1',\n",
       " 'postnatal_care_power_2',\n",
       " 'financial_assistance_power_1',\n",
       " 'financial_assistance_power_2',\n",
       " 'avg_expenditure_power_1',\n",
       " 'avg_expenditure_power_2',\n",
       " 'home_post_partum_check_power_1',\n",
       " 'home_post_partum_check_power_2',\n",
       " 'check_2_days_power_1',\n",
       " 'check_2_days_power_2',\n",
       " 'institutional_births_power_1',\n",
       " 'institutional_births_power_2']"
      ]
     },
     "execution_count": 25,
     "metadata": {},
     "output_type": "execute_result"
    }
   ],
   "source": [
    "small_poly_train_data, poly_features = polynomial_sframe(train_data, features, 2, target='IMR')\n",
    "poly_features"
   ]
  },
  {
   "cell_type": "code",
   "execution_count": 26,
   "metadata": {
    "scrolled": true
   },
   "outputs": [
    {
     "data": {
      "text/html": [
       "<pre>Linear regression:</pre>"
      ],
      "text/plain": [
       "Linear regression:"
      ]
     },
     "metadata": {},
     "output_type": "display_data"
    },
    {
     "data": {
      "text/html": [
       "<pre>--------------------------------------------------------</pre>"
      ],
      "text/plain": [
       "--------------------------------------------------------"
      ]
     },
     "metadata": {},
     "output_type": "display_data"
    },
    {
     "data": {
      "text/html": [
       "<pre>Number of examples          : 70</pre>"
      ],
      "text/plain": [
       "Number of examples          : 70"
      ]
     },
     "metadata": {},
     "output_type": "display_data"
    },
    {
     "data": {
      "text/html": [
       "<pre>Number of features          : 24</pre>"
      ],
      "text/plain": [
       "Number of features          : 24"
      ]
     },
     "metadata": {},
     "output_type": "display_data"
    },
    {
     "data": {
      "text/html": [
       "<pre>Number of unpacked features : 24</pre>"
      ],
      "text/plain": [
       "Number of unpacked features : 24"
      ]
     },
     "metadata": {},
     "output_type": "display_data"
    },
    {
     "data": {
      "text/html": [
       "<pre>Number of coefficients    : 25</pre>"
      ],
      "text/plain": [
       "Number of coefficients    : 25"
      ]
     },
     "metadata": {},
     "output_type": "display_data"
    },
    {
     "data": {
      "text/html": [
       "<pre>Starting Newton Method</pre>"
      ],
      "text/plain": [
       "Starting Newton Method"
      ]
     },
     "metadata": {},
     "output_type": "display_data"
    },
    {
     "data": {
      "text/html": [
       "<pre>--------------------------------------------------------</pre>"
      ],
      "text/plain": [
       "--------------------------------------------------------"
      ]
     },
     "metadata": {},
     "output_type": "display_data"
    },
    {
     "data": {
      "text/html": [
       "<pre>+-----------+----------+--------------+--------------------+---------------------------------+</pre>"
      ],
      "text/plain": [
       "+-----------+----------+--------------+--------------------+---------------------------------+"
      ]
     },
     "metadata": {},
     "output_type": "display_data"
    },
    {
     "data": {
      "text/html": [
       "<pre>| Iteration | Passes   | Elapsed Time | Training Max Error | Training Root-Mean-Square Error |</pre>"
      ],
      "text/plain": [
       "| Iteration | Passes   | Elapsed Time | Training Max Error | Training Root-Mean-Square Error |"
      ]
     },
     "metadata": {},
     "output_type": "display_data"
    },
    {
     "data": {
      "text/html": [
       "<pre>+-----------+----------+--------------+--------------------+---------------------------------+</pre>"
      ],
      "text/plain": [
       "+-----------+----------+--------------+--------------------+---------------------------------+"
      ]
     },
     "metadata": {},
     "output_type": "display_data"
    },
    {
     "data": {
      "text/html": [
       "<pre>| 1         | 2        | 0.000590     | 13.923484          | 5.085911                        |</pre>"
      ],
      "text/plain": [
       "| 1         | 2        | 0.000590     | 13.923484          | 5.085911                        |"
      ]
     },
     "metadata": {},
     "output_type": "display_data"
    },
    {
     "data": {
      "text/html": [
       "<pre>+-----------+----------+--------------+--------------------+---------------------------------+</pre>"
      ],
      "text/plain": [
       "+-----------+----------+--------------+--------------------+---------------------------------+"
      ]
     },
     "metadata": {},
     "output_type": "display_data"
    },
    {
     "data": {
      "text/html": [
       "<pre>SUCCESS: Optimal solution found.</pre>"
      ],
      "text/plain": [
       "SUCCESS: Optimal solution found."
      ]
     },
     "metadata": {},
     "output_type": "display_data"
    },
    {
     "data": {
      "text/html": [
       "<pre></pre>"
      ],
      "text/plain": []
     },
     "metadata": {},
     "output_type": "display_data"
    },
    {
     "data": {
      "text/plain": [
       "Class                          : LinearRegression\n",
       "\n",
       "Schema\n",
       "------\n",
       "Number of coefficients         : 25\n",
       "Number of examples             : 70\n",
       "Number of feature columns      : 24\n",
       "Number of unpacked features    : 24\n",
       "\n",
       "Hyperparameters\n",
       "---------------\n",
       "L1 penalty                     : 0.0\n",
       "L2 penalty                     : 0.01\n",
       "\n",
       "Training Summary\n",
       "----------------\n",
       "Solver                         : newton\n",
       "Solver iterations              : 1\n",
       "Solver status                  : SUCCESS: Optimal solution found.\n",
       "Training time (sec)            : 0.001\n",
       "\n",
       "Settings\n",
       "--------\n",
       "Residual sum of squares        : 1810.654\n",
       "Training RMSE                  : 5.0859\n",
       "\n",
       "Highest Positive Coefficients\n",
       "-----------------------------\n",
       "(intercept)                    : 48.7494\n",
       "home_post_partum_check_power_1 : 1.3568\n",
       "check_2_days_power_1           : 1.2094\n",
       "postnatal_care_power_1         : 0.684\n",
       "MCP_card_power_1               : 0.5136\n",
       "\n",
       "Lowest Negative Coefficients\n",
       "----------------------------\n",
       "first_trimester_check_power_1  : -1.057\n",
       "full_care_power_1              : -0.5337\n",
       "folic_acid_consumed_power_1    : -0.4463\n",
       "home_post_partum_check_power_2 : -0.1975\n",
       "financial_assistance_power_1   : -0.1027"
      ]
     },
     "execution_count": 26,
     "metadata": {},
     "output_type": "execute_result"
    }
   ],
   "source": [
    "pr_model = turicreate.linear_regression.create(small_poly_train_data, target='IMR', features=poly_features, validation_set=None)\n",
    "pr_model"
   ]
  },
  {
   "cell_type": "code",
   "execution_count": 27,
   "metadata": {},
   "outputs": [
    {
     "data": {
      "text/plain": [
       "{'IMR': 38,\n",
       " 'first_trimester_check': 75.7,\n",
       " 'at_least_4_checks': 74.2,\n",
       " 'tetanus_vaccination_mothers': 96.6,\n",
       " 'folic_acid_consumed': 54.9,\n",
       " 'full_care': 40.2,\n",
       " 'MCP_card': 99.4,\n",
       " 'postnatal_care': 71.6,\n",
       " 'financial_assistance': 38.3,\n",
       " 'avg_expenditure': 2474,\n",
       " 'home_post_partum_check': 0.0,\n",
       " 'check_2_days': 14.4,\n",
       " 'institutional_births': 94.4}"
      ]
     },
     "execution_count": 27,
     "metadata": {},
     "output_type": "execute_result"
    }
   ],
   "source": [
    "t2 = test_data[10]\n",
    "t2"
   ]
  },
  {
   "cell_type": "code",
   "execution_count": 28,
   "metadata": {},
   "outputs": [
    {
     "data": {
      "text/plain": [
       "{'max_error': 20.814285714285717, 'rmse': 11.404310558719798}"
      ]
     },
     "execution_count": 28,
     "metadata": {},
     "output_type": "execute_result"
    }
   ],
   "source": [
    "pr_model.evaluate(test_data)"
   ]
  },
  {
   "cell_type": "code",
   "execution_count": 29,
   "metadata": {},
   "outputs": [
    {
     "name": "stdout",
     "output_type": "stream",
     "text": [
      "+--------------------------------+-------+------------------------+-----+\n",
      "|              name              | index |         value          | ... |\n",
      "+--------------------------------+-------+------------------------+-----+\n",
      "| first_trimester_check_power_1  |  None |  -1.0570164882005484   | ... |\n",
      "|       full_care_power_1        |  None |  -0.5336571943155781   | ... |\n",
      "|  folic_acid_consumed_power_1   |  None |  -0.44630405266685574  | ... |\n",
      "| home_post_partum_check_power_2 |  None |  -0.19753205019617529  | ... |\n",
      "|  financial_assistance_power_1  |  None |  -0.10272418889199461  | ... |\n",
      "|      check_2_days_power_2      |  None | -0.014685257170431275  | ... |\n",
      "|     postnatal_care_power_2     |  None | -0.007741936861624842  | ... |\n",
      "| tetanus_vaccination_mother...  |  None | -0.0038896951207166093 | ... |\n",
      "|        MCP_card_power_2        |  None | -0.0031971121828954364 | ... |\n",
      "|    avg_expenditure_power_1     |  None | -0.0028745337094044365 | ... |\n",
      "|  institutional_births_power_2  |  None | -0.0019790097125269033 | ... |\n",
      "|   at_least_4_checks_power_2    |  None | -0.0015933263646767798 | ... |\n",
      "|    avg_expenditure_power_2     |  None | 2.2768007717221265e-07 | ... |\n",
      "|       full_care_power_2        |  None |  0.002015688182893721  | ... |\n",
      "|  financial_assistance_power_2  |  None |  0.004027614551974532  | ... |\n",
      "|  folic_acid_consumed_power_2   |  None |  0.010169369217329739  | ... |\n",
      "| first_trimester_check_power_2  |  None |  0.011448713910971336  | ... |\n",
      "| tetanus_vaccination_mother...  |  None |  0.04640004084616889   | ... |\n",
      "|   at_least_4_checks_power_1    |  None |  0.059062443196514845  | ... |\n",
      "|  institutional_births_power_1  |  None |   0.1900111157995411   | ... |\n",
      "|        MCP_card_power_1        |  None |   0.5136434274481652   | ... |\n",
      "|     postnatal_care_power_1     |  None |   0.6839977511798326   | ... |\n",
      "|      check_2_days_power_1      |  None |   1.2094461640691456   | ... |\n",
      "| home_post_partum_check_power_1 |  None |   1.3568363455729346   | ... |\n",
      "|          (intercept)           |  None |   48.749352609845424   | ... |\n",
      "+--------------------------------+-------+------------------------+-----+\n",
      "[25 rows x 4 columns]\n",
      "\n"
     ]
    }
   ],
   "source": [
    "pr_model.coefficients.sort('value').print_rows(30,3)"
   ]
  },
  {
   "cell_type": "code",
   "execution_count": 30,
   "metadata": {},
   "outputs": [],
   "source": [
    "pr_model.save('pr_model.tc')"
   ]
  },
  {
   "cell_type": "markdown",
   "metadata": {},
   "source": [
    "## Cross Validation\n",
    "\n",
    "Since we have relatively low number of data points, we use Cross Validation to select an appropriate value of l2_penalty\n"
   ]
  },
  {
   "cell_type": "code",
   "execution_count": 31,
   "metadata": {},
   "outputs": [],
   "source": [
    "def shuffle_sframe(sf, random_seed=None):\n",
    "    temp_shuffle_col=\"shuffle_col\"\n",
    "    shuffled_sframe = sf.copy()\n",
    "    shuffled_sframe[temp_shuffle_col] = turicreate.SArray.random_integers(sf.num_rows(), random_seed)\n",
    "    return shuffled_sframe.sort(temp_shuffle_col).remove_column(temp_shuffle_col)\n",
    "\n",
    "def k_fold_cross_validation(k, l2_penalty, data, output_name, features_list):\n",
    "    sum_ = 0\n",
    "    n = len(data)\n",
    "    for i in range(k):\n",
    "        start = (n*i)/k\n",
    "        end = ((n*(i+1))/k)-1\n",
    "        validation_data = data[start : end+1]\n",
    "        training_data= data[0:start].append(data[end+1:n])\n",
    "\n",
    "        model = turicreate.linear_regression.create(dataset=training_data, target=output_name, features=features_list, validation_set=None, l2_penalty= l2_penalty, verbose=False)\n",
    "        sum_ += model.evaluate(validation_data)['rmse']\n",
    "    result = sum_/k\n",
    "    return result\n",
    " "
   ]
  },
  {
   "cell_type": "code",
   "execution_count": 32,
   "metadata": {
    "scrolled": true
   },
   "outputs": [
    {
     "data": {
      "text/html": [
       "<div style=\"max-height:1000px;max-width:1500px;overflow:auto;\"><table frame=\"box\" rules=\"cols\">\n",
       "    <tr>\n",
       "        <th style=\"padding-left: 1em; padding-right: 1em; text-align: center\">IMR</th>\n",
       "        <th style=\"padding-left: 1em; padding-right: 1em; text-align: center\">first_trimester_check</th>\n",
       "        <th style=\"padding-left: 1em; padding-right: 1em; text-align: center\">at_least_4_checks</th>\n",
       "        <th style=\"padding-left: 1em; padding-right: 1em; text-align: center\">tetanus_vaccination_mothe<br>rs ...</th>\n",
       "        <th style=\"padding-left: 1em; padding-right: 1em; text-align: center\">folic_acid_consumed</th>\n",
       "        <th style=\"padding-left: 1em; padding-right: 1em; text-align: center\">full_care</th>\n",
       "        <th style=\"padding-left: 1em; padding-right: 1em; text-align: center\">MCP_card</th>\n",
       "    </tr>\n",
       "    <tr>\n",
       "        <td style=\"padding-left: 1em; padding-right: 1em; text-align: center; vertical-align: top\">31</td>\n",
       "        <td style=\"padding-left: 1em; padding-right: 1em; text-align: center; vertical-align: top\">74.1</td>\n",
       "        <td style=\"padding-left: 1em; padding-right: 1em; text-align: center; vertical-align: top\">78.8</td>\n",
       "        <td style=\"padding-left: 1em; padding-right: 1em; text-align: center; vertical-align: top\">86.2</td>\n",
       "        <td style=\"padding-left: 1em; padding-right: 1em; text-align: center; vertical-align: top\">29.5</td>\n",
       "        <td style=\"padding-left: 1em; padding-right: 1em; text-align: center; vertical-align: top\">26.0</td>\n",
       "        <td style=\"padding-left: 1em; padding-right: 1em; text-align: center; vertical-align: top\">88.8</td>\n",
       "    </tr>\n",
       "    <tr>\n",
       "        <td style=\"padding-left: 1em; padding-right: 1em; text-align: center; vertical-align: top\">64</td>\n",
       "        <td style=\"padding-left: 1em; padding-right: 1em; text-align: center; vertical-align: top\">45.9</td>\n",
       "        <td style=\"padding-left: 1em; padding-right: 1em; text-align: center; vertical-align: top\">26.4</td>\n",
       "        <td style=\"padding-left: 1em; padding-right: 1em; text-align: center; vertical-align: top\">86.6</td>\n",
       "        <td style=\"padding-left: 1em; padding-right: 1em; text-align: center; vertical-align: top\">12.9</td>\n",
       "        <td style=\"padding-left: 1em; padding-right: 1em; text-align: center; vertical-align: top\">5.9</td>\n",
       "        <td style=\"padding-left: 1em; padding-right: 1em; text-align: center; vertical-align: top\">79.8</td>\n",
       "    </tr>\n",
       "    <tr>\n",
       "        <td style=\"padding-left: 1em; padding-right: 1em; text-align: center; vertical-align: top\">32</td>\n",
       "        <td style=\"padding-left: 1em; padding-right: 1em; text-align: center; vertical-align: top\">50.7</td>\n",
       "        <td style=\"padding-left: 1em; padding-right: 1em; text-align: center; vertical-align: top\">46.3</td>\n",
       "        <td style=\"padding-left: 1em; padding-right: 1em; text-align: center; vertical-align: top\">77.6</td>\n",
       "        <td style=\"padding-left: 1em; padding-right: 1em; text-align: center; vertical-align: top\">33.2</td>\n",
       "        <td style=\"padding-left: 1em; padding-right: 1em; text-align: center; vertical-align: top\">20.9</td>\n",
       "        <td style=\"padding-left: 1em; padding-right: 1em; text-align: center; vertical-align: top\">94.6</td>\n",
       "    </tr>\n",
       "    <tr>\n",
       "        <td style=\"padding-left: 1em; padding-right: 1em; text-align: center; vertical-align: top\">29</td>\n",
       "        <td style=\"padding-left: 1em; padding-right: 1em; text-align: center; vertical-align: top\">69.1</td>\n",
       "        <td style=\"padding-left: 1em; padding-right: 1em; text-align: center; vertical-align: top\">66.4</td>\n",
       "        <td style=\"padding-left: 1em; padding-right: 1em; text-align: center; vertical-align: top\">89.9</td>\n",
       "        <td style=\"padding-left: 1em; padding-right: 1em; text-align: center; vertical-align: top\">40.8</td>\n",
       "        <td style=\"padding-left: 1em; padding-right: 1em; text-align: center; vertical-align: top\">31.1</td>\n",
       "        <td style=\"padding-left: 1em; padding-right: 1em; text-align: center; vertical-align: top\">87.7</td>\n",
       "    </tr>\n",
       "    <tr>\n",
       "        <td style=\"padding-left: 1em; padding-right: 1em; text-align: center; vertical-align: top\">35</td>\n",
       "        <td style=\"padding-left: 1em; padding-right: 1em; text-align: center; vertical-align: top\">79.2</td>\n",
       "        <td style=\"padding-left: 1em; padding-right: 1em; text-align: center; vertical-align: top\">72.7</td>\n",
       "        <td style=\"padding-left: 1em; padding-right: 1em; text-align: center; vertical-align: top\">88.5</td>\n",
       "        <td style=\"padding-left: 1em; padding-right: 1em; text-align: center; vertical-align: top\">47.5</td>\n",
       "        <td style=\"padding-left: 1em; padding-right: 1em; text-align: center; vertical-align: top\">37.3</td>\n",
       "        <td style=\"padding-left: 1em; padding-right: 1em; text-align: center; vertical-align: top\">92.2</td>\n",
       "    </tr>\n",
       "    <tr>\n",
       "        <td style=\"padding-left: 1em; padding-right: 1em; text-align: center; vertical-align: top\">23</td>\n",
       "        <td style=\"padding-left: 1em; padding-right: 1em; text-align: center; vertical-align: top\">68.7</td>\n",
       "        <td style=\"padding-left: 1em; padding-right: 1em; text-align: center; vertical-align: top\">75.6</td>\n",
       "        <td style=\"padding-left: 1em; padding-right: 1em; text-align: center; vertical-align: top\">90.0</td>\n",
       "        <td style=\"padding-left: 1em; padding-right: 1em; text-align: center; vertical-align: top\">43.9</td>\n",
       "        <td style=\"padding-left: 1em; padding-right: 1em; text-align: center; vertical-align: top\">35.7</td>\n",
       "        <td style=\"padding-left: 1em; padding-right: 1em; text-align: center; vertical-align: top\">88.8</td>\n",
       "    </tr>\n",
       "    <tr>\n",
       "        <td style=\"padding-left: 1em; padding-right: 1em; text-align: center; vertical-align: top\">25</td>\n",
       "        <td style=\"padding-left: 1em; padding-right: 1em; text-align: center; vertical-align: top\">72.6</td>\n",
       "        <td style=\"padding-left: 1em; padding-right: 1em; text-align: center; vertical-align: top\">62.0</td>\n",
       "        <td style=\"padding-left: 1em; padding-right: 1em; text-align: center; vertical-align: top\">87.1</td>\n",
       "        <td style=\"padding-left: 1em; padding-right: 1em; text-align: center; vertical-align: top\">32.7</td>\n",
       "        <td style=\"padding-left: 1em; padding-right: 1em; text-align: center; vertical-align: top\">27.8</td>\n",
       "        <td style=\"padding-left: 1em; padding-right: 1em; text-align: center; vertical-align: top\">34.2</td>\n",
       "    </tr>\n",
       "    <tr>\n",
       "        <td style=\"padding-left: 1em; padding-right: 1em; text-align: center; vertical-align: top\">21</td>\n",
       "        <td style=\"padding-left: 1em; padding-right: 1em; text-align: center; vertical-align: top\">69.6</td>\n",
       "        <td style=\"padding-left: 1em; padding-right: 1em; text-align: center; vertical-align: top\">69.7</td>\n",
       "        <td style=\"padding-left: 1em; padding-right: 1em; text-align: center; vertical-align: top\">96.5</td>\n",
       "        <td style=\"padding-left: 1em; padding-right: 1em; text-align: center; vertical-align: top\">46.5</td>\n",
       "        <td style=\"padding-left: 1em; padding-right: 1em; text-align: center; vertical-align: top\">27.1</td>\n",
       "        <td style=\"padding-left: 1em; padding-right: 1em; text-align: center; vertical-align: top\">97.2</td>\n",
       "    </tr>\n",
       "    <tr>\n",
       "        <td style=\"padding-left: 1em; padding-right: 1em; text-align: center; vertical-align: top\">34</td>\n",
       "        <td style=\"padding-left: 1em; padding-right: 1em; text-align: center; vertical-align: top\">70.4</td>\n",
       "        <td style=\"padding-left: 1em; padding-right: 1em; text-align: center; vertical-align: top\">52.1</td>\n",
       "        <td style=\"padding-left: 1em; padding-right: 1em; text-align: center; vertical-align: top\">95.7</td>\n",
       "        <td style=\"padding-left: 1em; padding-right: 1em; text-align: center; vertical-align: top\">26.9</td>\n",
       "        <td style=\"padding-left: 1em; padding-right: 1em; text-align: center; vertical-align: top\">17.9</td>\n",
       "        <td style=\"padding-left: 1em; padding-right: 1em; text-align: center; vertical-align: top\">88.0</td>\n",
       "    </tr>\n",
       "    <tr>\n",
       "        <td style=\"padding-left: 1em; padding-right: 1em; text-align: center; vertical-align: top\">31</td>\n",
       "        <td style=\"padding-left: 1em; padding-right: 1em; text-align: center; vertical-align: top\">77.0</td>\n",
       "        <td style=\"padding-left: 1em; padding-right: 1em; text-align: center; vertical-align: top\">77.5</td>\n",
       "        <td style=\"padding-left: 1em; padding-right: 1em; text-align: center; vertical-align: top\">88.5</td>\n",
       "        <td style=\"padding-left: 1em; padding-right: 1em; text-align: center; vertical-align: top\">59.3</td>\n",
       "        <td style=\"padding-left: 1em; padding-right: 1em; text-align: center; vertical-align: top\">47.9</td>\n",
       "        <td style=\"padding-left: 1em; padding-right: 1em; text-align: center; vertical-align: top\">97.8</td>\n",
       "    </tr>\n",
       "</table>\n",
       "<table frame=\"box\" rules=\"cols\">\n",
       "    <tr>\n",
       "        <th style=\"padding-left: 1em; padding-right: 1em; text-align: center\">postnatal_care</th>\n",
       "        <th style=\"padding-left: 1em; padding-right: 1em; text-align: center\">financial_assistance</th>\n",
       "        <th style=\"padding-left: 1em; padding-right: 1em; text-align: center\">avg_expenditure</th>\n",
       "        <th style=\"padding-left: 1em; padding-right: 1em; text-align: center\">home_post_partum_check</th>\n",
       "        <th style=\"padding-left: 1em; padding-right: 1em; text-align: center\">check_2_days</th>\n",
       "        <th style=\"padding-left: 1em; padding-right: 1em; text-align: center\">institutional_births</th>\n",
       "    </tr>\n",
       "    <tr>\n",
       "        <td style=\"padding-left: 1em; padding-right: 1em; text-align: center; vertical-align: top\">71.0</td>\n",
       "        <td style=\"padding-left: 1em; padding-right: 1em; text-align: center; vertical-align: top\">55.7</td>\n",
       "        <td style=\"padding-left: 1em; padding-right: 1em; text-align: center; vertical-align: top\">4104</td>\n",
       "        <td style=\"padding-left: 1em; padding-right: 1em; text-align: center; vertical-align: top\">1.0</td>\n",
       "        <td style=\"padding-left: 1em; padding-right: 1em; text-align: center; vertical-align: top\">18.3</td>\n",
       "        <td style=\"padding-left: 1em; padding-right: 1em; text-align: center; vertical-align: top\">82.0</td>\n",
       "    </tr>\n",
       "    <tr>\n",
       "        <td style=\"padding-left: 1em; padding-right: 1em; text-align: center; vertical-align: top\">54.0</td>\n",
       "        <td style=\"padding-left: 1em; padding-right: 1em; text-align: center; vertical-align: top\">48.7</td>\n",
       "        <td style=\"padding-left: 1em; padding-right: 1em; text-align: center; vertical-align: top\">1956</td>\n",
       "        <td style=\"padding-left: 1em; padding-right: 1em; text-align: center; vertical-align: top\">0.8</td>\n",
       "        <td style=\"padding-left: 1em; padding-right: 1em; text-align: center; vertical-align: top\">24.4</td>\n",
       "        <td style=\"padding-left: 1em; padding-right: 1em; text-align: center; vertical-align: top\">67.8</td>\n",
       "    </tr>\n",
       "    <tr>\n",
       "        <td style=\"padding-left: 1em; padding-right: 1em; text-align: center; vertical-align: top\">42.6</td>\n",
       "        <td style=\"padding-left: 1em; padding-right: 1em; text-align: center; vertical-align: top\">28.6</td>\n",
       "        <td style=\"padding-left: 1em; padding-right: 1em; text-align: center; vertical-align: top\">2987</td>\n",
       "        <td style=\"padding-left: 1em; padding-right: 1em; text-align: center; vertical-align: top\">1.3</td>\n",
       "        <td style=\"padding-left: 1em; padding-right: 1em; text-align: center; vertical-align: top\">8.1</td>\n",
       "        <td style=\"padding-left: 1em; padding-right: 1em; text-align: center; vertical-align: top\">65.7</td>\n",
       "    </tr>\n",
       "    <tr>\n",
       "        <td style=\"padding-left: 1em; padding-right: 1em; text-align: center; vertical-align: top\">71.7</td>\n",
       "        <td style=\"padding-left: 1em; padding-right: 1em; text-align: center; vertical-align: top\">21.4</td>\n",
       "        <td style=\"padding-left: 1em; padding-right: 1em; text-align: center; vertical-align: top\">3913</td>\n",
       "        <td style=\"padding-left: 1em; padding-right: 1em; text-align: center; vertical-align: top\">3.2</td>\n",
       "        <td style=\"padding-left: 1em; padding-right: 1em; text-align: center; vertical-align: top\">27.2</td>\n",
       "        <td style=\"padding-left: 1em; padding-right: 1em; text-align: center; vertical-align: top\">88.7</td>\n",
       "    </tr>\n",
       "    <tr>\n",
       "        <td style=\"padding-left: 1em; padding-right: 1em; text-align: center; vertical-align: top\">79.1</td>\n",
       "        <td style=\"padding-left: 1em; padding-right: 1em; text-align: center; vertical-align: top\">14.0</td>\n",
       "        <td style=\"padding-left: 1em; padding-right: 1em; text-align: center; vertical-align: top\">4079</td>\n",
       "        <td style=\"padding-left: 1em; padding-right: 1em; text-align: center; vertical-align: top\">7.4</td>\n",
       "        <td style=\"padding-left: 1em; padding-right: 1em; text-align: center; vertical-align: top\">28.9</td>\n",
       "        <td style=\"padding-left: 1em; padding-right: 1em; text-align: center; vertical-align: top\">87.3</td>\n",
       "    </tr>\n",
       "    <tr>\n",
       "        <td style=\"padding-left: 1em; padding-right: 1em; text-align: center; vertical-align: top\">82.0</td>\n",
       "        <td style=\"padding-left: 1em; padding-right: 1em; text-align: center; vertical-align: top\">6.2</td>\n",
       "        <td style=\"padding-left: 1em; padding-right: 1em; text-align: center; vertical-align: top\">3257</td>\n",
       "        <td style=\"padding-left: 1em; padding-right: 1em; text-align: center; vertical-align: top\">4.9</td>\n",
       "        <td style=\"padding-left: 1em; padding-right: 1em; text-align: center; vertical-align: top\">29.3</td>\n",
       "        <td style=\"padding-left: 1em; padding-right: 1em; text-align: center; vertical-align: top\">94.8</td>\n",
       "    </tr>\n",
       "    <tr>\n",
       "        <td style=\"padding-left: 1em; padding-right: 1em; text-align: center; vertical-align: top\">57.4</td>\n",
       "        <td style=\"padding-left: 1em; padding-right: 1em; text-align: center; vertical-align: top\">30.0</td>\n",
       "        <td style=\"padding-left: 1em; padding-right: 1em; text-align: center; vertical-align: top\">9609</td>\n",
       "        <td style=\"padding-left: 1em; padding-right: 1em; text-align: center; vertical-align: top\">0.4</td>\n",
       "        <td style=\"padding-left: 1em; padding-right: 1em; text-align: center; vertical-align: top\">8.5</td>\n",
       "        <td style=\"padding-left: 1em; padding-right: 1em; text-align: center; vertical-align: top\">60.5</td>\n",
       "    </tr>\n",
       "    <tr>\n",
       "        <td style=\"padding-left: 1em; padding-right: 1em; text-align: center; vertical-align: top\">73.6</td>\n",
       "        <td style=\"padding-left: 1em; padding-right: 1em; text-align: center; vertical-align: top\">57.6</td>\n",
       "        <td style=\"padding-left: 1em; padding-right: 1em; text-align: center; vertical-align: top\">4900</td>\n",
       "        <td style=\"padding-left: 1em; padding-right: 1em; text-align: center; vertical-align: top\">4.0</td>\n",
       "        <td style=\"padding-left: 1em; padding-right: 1em; text-align: center; vertical-align: top\">25.0</td>\n",
       "        <td style=\"padding-left: 1em; padding-right: 1em; text-align: center; vertical-align: top\">89.7</td>\n",
       "    </tr>\n",
       "    <tr>\n",
       "        <td style=\"padding-left: 1em; padding-right: 1em; text-align: center; vertical-align: top\">58.3</td>\n",
       "        <td style=\"padding-left: 1em; padding-right: 1em; text-align: center; vertical-align: top\">25.2</td>\n",
       "        <td style=\"padding-left: 1em; padding-right: 1em; text-align: center; vertical-align: top\">1889</td>\n",
       "        <td style=\"padding-left: 1em; padding-right: 1em; text-align: center; vertical-align: top\">1.0</td>\n",
       "        <td style=\"padding-left: 1em; padding-right: 1em; text-align: center; vertical-align: top\">24.4</td>\n",
       "        <td style=\"padding-left: 1em; padding-right: 1em; text-align: center; vertical-align: top\">81.6</td>\n",
       "    </tr>\n",
       "    <tr>\n",
       "        <td style=\"padding-left: 1em; padding-right: 1em; text-align: center; vertical-align: top\">77.0</td>\n",
       "        <td style=\"padding-left: 1em; padding-right: 1em; text-align: center; vertical-align: top\">44.9</td>\n",
       "        <td style=\"padding-left: 1em; padding-right: 1em; text-align: center; vertical-align: top\">5019</td>\n",
       "        <td style=\"padding-left: 1em; padding-right: 1em; text-align: center; vertical-align: top\">2.9</td>\n",
       "        <td style=\"padding-left: 1em; padding-right: 1em; text-align: center; vertical-align: top\">13.2</td>\n",
       "        <td style=\"padding-left: 1em; padding-right: 1em; text-align: center; vertical-align: top\">97.2</td>\n",
       "    </tr>\n",
       "</table>\n",
       "[70 rows x 13 columns]<br/>Note: Only the head of the SFrame is printed.<br/>You can use print_rows(num_rows=m, num_columns=n) to print more rows and columns.\n",
       "</div>"
      ],
      "text/plain": [
       "Columns:\n",
       "\tIMR\tint\n",
       "\tfirst_trimester_check\tfloat\n",
       "\tat_least_4_checks\tfloat\n",
       "\ttetanus_vaccination_mothers\tfloat\n",
       "\tfolic_acid_consumed\tfloat\n",
       "\tfull_care\tfloat\n",
       "\tMCP_card\tfloat\n",
       "\tpostnatal_care\tfloat\n",
       "\tfinancial_assistance\tfloat\n",
       "\tavg_expenditure\tint\n",
       "\thome_post_partum_check\tfloat\n",
       "\tcheck_2_days\tfloat\n",
       "\tinstitutional_births\tfloat\n",
       "\n",
       "Rows: 70\n",
       "\n",
       "Data:\n",
       "+-----+-----------------------+-------------------+-----------------------------+\n",
       "| IMR | first_trimester_check | at_least_4_checks | tetanus_vaccination_mothers |\n",
       "+-----+-----------------------+-------------------+-----------------------------+\n",
       "|  31 |          74.1         |        78.8       |             86.2            |\n",
       "|  64 |          45.9         |        26.4       |             86.6            |\n",
       "|  32 |          50.7         |        46.3       |             77.6            |\n",
       "|  29 |          69.1         |        66.4       |             89.9            |\n",
       "|  35 |          79.2         |        72.7       |             88.5            |\n",
       "|  23 |          68.7         |        75.6       |             90.0            |\n",
       "|  25 |          72.6         |        62.0       |             87.1            |\n",
       "|  21 |          69.6         |        69.7       |             96.5            |\n",
       "|  34 |          70.4         |        52.1       |             95.7            |\n",
       "|  31 |          77.0         |        77.5       |             88.5            |\n",
       "+-----+-----------------------+-------------------+-----------------------------+\n",
       "+---------------------+-----------+----------+----------------+----------------------+\n",
       "| folic_acid_consumed | full_care | MCP_card | postnatal_care | financial_assistance |\n",
       "+---------------------+-----------+----------+----------------+----------------------+\n",
       "|         29.5        |    26.0   |   88.8   |      71.0      |         55.7         |\n",
       "|         12.9        |    5.9    |   79.8   |      54.0      |         48.7         |\n",
       "|         33.2        |    20.9   |   94.6   |      42.6      |         28.6         |\n",
       "|         40.8        |    31.1   |   87.7   |      71.7      |         21.4         |\n",
       "|         47.5        |    37.3   |   92.2   |      79.1      |         14.0         |\n",
       "|         43.9        |    35.7   |   88.8   |      82.0      |         6.2          |\n",
       "|         32.7        |    27.8   |   34.2   |      57.4      |         30.0         |\n",
       "|         46.5        |    27.1   |   97.2   |      73.6      |         57.6         |\n",
       "|         26.9        |    17.9   |   88.0   |      58.3      |         25.2         |\n",
       "|         59.3        |    47.9   |   97.8   |      77.0      |         44.9         |\n",
       "+---------------------+-----------+----------+----------------+----------------------+\n",
       "+-----------------+------------------------+--------------+----------------------+\n",
       "| avg_expenditure | home_post_partum_check | check_2_days | institutional_births |\n",
       "+-----------------+------------------------+--------------+----------------------+\n",
       "|       4104      |          1.0           |     18.3     |         82.0         |\n",
       "|       1956      |          0.8           |     24.4     |         67.8         |\n",
       "|       2987      |          1.3           |     8.1      |         65.7         |\n",
       "|       3913      |          3.2           |     27.2     |         88.7         |\n",
       "|       4079      |          7.4           |     28.9     |         87.3         |\n",
       "|       3257      |          4.9           |     29.3     |         94.8         |\n",
       "|       9609      |          0.4           |     8.5      |         60.5         |\n",
       "|       4900      |          4.0           |     25.0     |         89.7         |\n",
       "|       1889      |          1.0           |     24.4     |         81.6         |\n",
       "|       5019      |          2.9           |     13.2     |         97.2         |\n",
       "+-----------------+------------------------+--------------+----------------------+\n",
       "[70 rows x 13 columns]\n",
       "Note: Only the head of the SFrame is printed.\n",
       "You can use print_rows(num_rows=m, num_columns=n) to print more rows and columns."
      ]
     },
     "execution_count": 32,
     "metadata": {},
     "output_type": "execute_result"
    }
   ],
   "source": [
    "shuffle_sframe(train_data)"
   ]
  },
  {
   "cell_type": "code",
   "execution_count": 33,
   "metadata": {},
   "outputs": [
    {
     "name": "stdout",
     "output_type": "stream",
     "text": [
      "min_error_penalty =  833.9166666666667 \n",
      "min_error =  9.953980895848147\n"
     ]
    }
   ],
   "source": [
    "data_10, poly_features = polynomial_sframe(train_data, features, 10, 'IMR')\n",
    "test_10, _ = polynomial_sframe(test_data, features, 10, 'IMR')\n",
    "\n",
    "errors = []\n",
    "min_error = None\n",
    "for penalty in np.linspace(1, 2000, num=13):\n",
    "    error = k_fold_cross_validation(5, penalty, data_10 ,'IMR', poly_features)\n",
    "    errors.append(error)\n",
    "    if min_error == None or min_error - error > 1:  # min_error > error  :    #error-min_error > 0.5\n",
    "        min_error = error\n",
    "        min_error_penalty = penalty\n",
    "    \n",
    "        \n",
    "print('min_error_penalty = ', min_error_penalty, '\\nmin_error = ', min_error)\n",
    "            "
   ]
  },
  {
   "cell_type": "code",
   "execution_count": 34,
   "metadata": {
    "scrolled": true
   },
   "outputs": [
    {
     "data": {
      "text/html": [
       "<pre>Linear regression:</pre>"
      ],
      "text/plain": [
       "Linear regression:"
      ]
     },
     "metadata": {},
     "output_type": "display_data"
    },
    {
     "data": {
      "text/html": [
       "<pre>--------------------------------------------------------</pre>"
      ],
      "text/plain": [
       "--------------------------------------------------------"
      ]
     },
     "metadata": {},
     "output_type": "display_data"
    },
    {
     "data": {
      "text/html": [
       "<pre>Number of examples          : 70</pre>"
      ],
      "text/plain": [
       "Number of examples          : 70"
      ]
     },
     "metadata": {},
     "output_type": "display_data"
    },
    {
     "data": {
      "text/html": [
       "<pre>Number of features          : 120</pre>"
      ],
      "text/plain": [
       "Number of features          : 120"
      ]
     },
     "metadata": {},
     "output_type": "display_data"
    },
    {
     "data": {
      "text/html": [
       "<pre>Number of unpacked features : 120</pre>"
      ],
      "text/plain": [
       "Number of unpacked features : 120"
      ]
     },
     "metadata": {},
     "output_type": "display_data"
    },
    {
     "data": {
      "text/html": [
       "<pre>Number of coefficients    : 121</pre>"
      ],
      "text/plain": [
       "Number of coefficients    : 121"
      ]
     },
     "metadata": {},
     "output_type": "display_data"
    },
    {
     "data": {
      "text/html": [
       "<pre>Starting Newton Method</pre>"
      ],
      "text/plain": [
       "Starting Newton Method"
      ]
     },
     "metadata": {},
     "output_type": "display_data"
    },
    {
     "data": {
      "text/html": [
       "<pre>--------------------------------------------------------</pre>"
      ],
      "text/plain": [
       "--------------------------------------------------------"
      ]
     },
     "metadata": {},
     "output_type": "display_data"
    },
    {
     "data": {
      "text/html": [
       "<pre>+-----------+----------+--------------+--------------------+---------------------------------+</pre>"
      ],
      "text/plain": [
       "+-----------+----------+--------------+--------------------+---------------------------------+"
      ]
     },
     "metadata": {},
     "output_type": "display_data"
    },
    {
     "data": {
      "text/html": [
       "<pre>| Iteration | Passes   | Elapsed Time | Training Max Error | Training Root-Mean-Square Error |</pre>"
      ],
      "text/plain": [
       "| Iteration | Passes   | Elapsed Time | Training Max Error | Training Root-Mean-Square Error |"
      ]
     },
     "metadata": {},
     "output_type": "display_data"
    },
    {
     "data": {
      "text/html": [
       "<pre>+-----------+----------+--------------+--------------------+---------------------------------+</pre>"
      ],
      "text/plain": [
       "+-----------+----------+--------------+--------------------+---------------------------------+"
      ]
     },
     "metadata": {},
     "output_type": "display_data"
    },
    {
     "data": {
      "text/html": [
       "<pre>| 1         | 2        | 0.006333     | 24.579200          | 7.515561                        |</pre>"
      ],
      "text/plain": [
       "| 1         | 2        | 0.006333     | 24.579200          | 7.515561                        |"
      ]
     },
     "metadata": {},
     "output_type": "display_data"
    },
    {
     "data": {
      "text/html": [
       "<pre>+-----------+----------+--------------+--------------------+---------------------------------+</pre>"
      ],
      "text/plain": [
       "+-----------+----------+--------------+--------------------+---------------------------------+"
      ]
     },
     "metadata": {},
     "output_type": "display_data"
    },
    {
     "data": {
      "text/html": [
       "<pre>SUCCESS: Optimal solution found.</pre>"
      ],
      "text/plain": [
       "SUCCESS: Optimal solution found."
      ]
     },
     "metadata": {},
     "output_type": "display_data"
    },
    {
     "data": {
      "text/html": [
       "<pre></pre>"
      ],
      "text/plain": []
     },
     "metadata": {},
     "output_type": "display_data"
    },
    {
     "data": {
      "text/plain": [
       "Class                          : LinearRegression\n",
       "\n",
       "Schema\n",
       "------\n",
       "Number of coefficients         : 121\n",
       "Number of examples             : 70\n",
       "Number of feature columns      : 120\n",
       "Number of unpacked features    : 120\n",
       "\n",
       "Hyperparameters\n",
       "---------------\n",
       "L1 penalty                     : 0.0\n",
       "L2 penalty                     : 250.0\n",
       "\n",
       "Training Summary\n",
       "----------------\n",
       "Solver                         : newton\n",
       "Solver iterations              : 1\n",
       "Solver status                  : SUCCESS: Optimal solution found.\n",
       "Training time (sec)            : 0.0073\n",
       "\n",
       "Settings\n",
       "--------\n",
       "Residual sum of squares        : 3953.856\n",
       "Training RMSE                  : 7.5156\n",
       "\n",
       "Highest Positive Coefficients\n",
       "-----------------------------\n",
       "(intercept)                    : 39.954\n",
       "financial_assistance_power_1   : 0.0082\n",
       "home_post_partum_check_power_1 : 0.0061\n",
       "check_2_days_power_1           : 0.0058\n",
       "home_post_partum_check_power_2 : 0.0007\n",
       "\n",
       "Lowest Negative Coefficients\n",
       "----------------------------\n",
       "full_care_power_1              : -0.0092\n",
       "at_least_4_checks_power_1      : -0.0031\n",
       "folic_acid_consumed_power_1    : -0.0024\n",
       "first_trimester_check_power_1  : -0.0006\n",
       "institutional_births_power_1   : -0.0006"
      ]
     },
     "execution_count": 34,
     "metadata": {},
     "output_type": "execute_result"
    }
   ],
   "source": [
    "pr_ridge_model = turicreate.linear_regression.create(data_10, target='IMR', features=poly_features, validation_set=None, l2_penalty = 250)\n",
    "pr_ridge_model"
   ]
  },
  {
   "cell_type": "code",
   "execution_count": 35,
   "metadata": {},
   "outputs": [
    {
     "data": {
      "text/plain": [
       "[<matplotlib.lines.Line2D at 0x7f1364128250>]"
      ]
     },
     "execution_count": 35,
     "metadata": {},
     "output_type": "execute_result"
    },
    {
     "data": {
      "image/png": "[encoded data removed]",
      "text/plain": [
       "<Figure size 432x288 with 1 Axes>"
      ]
     },
     "metadata": {
      "needs_background": "light"
     },
     "output_type": "display_data"
    }
   ],
   "source": [
    "plt.xlabel('L2 Penalty')\n",
    "plt.ylabel('RMSE')\n",
    "plt.plot(np.linspace(1, 2000, num=13), errors, '-')"
   ]
  },
  {
   "cell_type": "markdown",
   "metadata": {},
   "source": [
    "## Conclusion:\n",
    "We choose l2_penalty = 250 at the elbow of the plot to avoid underfitting caused by higher values of l2_penalty."
   ]
  },
  {
   "cell_type": "code",
   "execution_count": 36,
   "metadata": {},
   "outputs": [
    {
     "data": {
      "text/plain": [
       "{'max_error': 13.727412001639621, 'rmse': 7.429576672196218}"
      ]
     },
     "execution_count": 36,
     "metadata": {},
     "output_type": "execute_result"
    }
   ],
   "source": [
    "pr_ridge_model.evaluate(test_10)"
   ]
  },
  {
   "cell_type": "code",
   "execution_count": 37,
   "metadata": {},
   "outputs": [],
   "source": [
    "pr_ridge_model.save('pr_ridge_model.tc')"
   ]
  },
  {
   "cell_type": "markdown",
   "metadata": {},
   "source": [
    "# Results:\n",
    "Multiple Regression model was found to have the best performance and accuracy for the current dataset with an RMSE value of 5.83. Other tested models could perform better with an increased dataset size in the future."
   ]
  }
 ],
 "metadata": {
  "kernelspec": {
   "display_name": "Python 3",
   "language": "python",
   "name": "python3"
  },
  "language_info": {
   "codemirror_mode": {
    "name": "ipython",
    "version": 3
   },
   "file_extension": ".py",
   "mimetype": "text/x-python",
   "name": "python",
   "nbconvert_exporter": "python",
   "pygments_lexer": "ipython3",
   "version": "3.8.0"
  }
 },
 "nbformat": 4,
 "nbformat_minor": 4
}
